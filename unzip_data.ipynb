{
 "cells": [
  {
   "cell_type": "code",
   "execution_count": null,
   "metadata": {},
   "outputs": [],
   "source": [
    "# !tar -xf 7606611.zip -C data\n",
    "!mkdir data\\SubjData\n",
    "!mkdir data\\P80\n",
    "!tar -xf data/SubjData.zip -C data/SubjData\n",
    "!tar -xf data/P80.zip -C data/P80\n",
    "for i in range(8):\n",
    "  for j in range(10):\n",
    "    !mkdir data\\P{i}{j}\n",
    "    !tar -xf data/P{i}{j}.zip -C data/P{i}{j}"
   ]
  },
  {
   "cell_type": "code",
   "execution_count": null,
   "metadata": {},
   "outputs": [],
   "source": [
    "!del data\\SubjData.zip\n",
    "!del data\\P80.zip\n",
    "for i in range(8):\n",
    "  for j in range(10):\n",
    "    !del data\\P{i}{j}.zip"
   ]
  }
 ],
 "metadata": {
  "kernelspec": {
   "display_name": "cs229-final-proj",
   "language": "python",
   "name": "python3"
  },
  "language_info": {
   "codemirror_mode": {
    "name": "ipython",
    "version": 3
   },
   "file_extension": ".py",
   "mimetype": "text/x-python",
   "name": "python",
   "nbconvert_exporter": "python",
   "pygments_lexer": "ipython3",
   "version": "3.6.6"
  }
 },
 "nbformat": 4,
 "nbformat_minor": 2
}
